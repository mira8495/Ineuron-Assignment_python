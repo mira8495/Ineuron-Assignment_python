{
  "nbformat": 4,
  "nbformat_minor": 0,
  "metadata": {
    "colab": {
      "provenance": []
    },
    "kernelspec": {
      "name": "python3",
      "display_name": "Python 3"
    },
    "language_info": {
      "name": "python"
    }
  },
  "cells": [
    {
      "cell_type": "markdown",
      "source": [
        "**Write a Python Program to Check if a Number is Positive, Negative or Zero?**"
      ],
      "metadata": {
        "id": "1qaFG6nUblTb"
      }
    },
    {
      "cell_type": "code",
      "source": [
        "a=float(input(\"enter a number:\"))\n",
        "if (a==0):\n",
        "  print(\"Number is zero\")\n",
        "elif(a>0):\n",
        "  print(\"This is positive number\")\n",
        "else:\n",
        "  print(\"This is negative number\")"
      ],
      "metadata": {
        "colab": {
          "base_uri": "https://localhost:8080/"
        },
        "id": "GqukDYUgbwZi",
        "outputId": "35dfbb6f-1926-4d12-e0e0-18bd1afd2e01"
      },
      "execution_count": 12,
      "outputs": [
        {
          "output_type": "stream",
          "name": "stdout",
          "text": [
            "enter a number:-76\n",
            "This is negative number\n"
          ]
        }
      ]
    },
    {
      "cell_type": "markdown",
      "source": [
        "**Write a Python Program to Check if a Number is Odd or Even?**"
      ],
      "metadata": {
        "id": "ibnzvzbVeLYW"
      }
    },
    {
      "cell_type": "code",
      "source": [
        "a=int(input(\"enter a no.: \"))\n",
        "if(a%2==0):\n",
        "  print(\"even number\")\n",
        "else:\n",
        "  print(\"odd number\")"
      ],
      "metadata": {
        "colab": {
          "base_uri": "https://localhost:8080/"
        },
        "id": "pe2Tn8NheoTB",
        "outputId": "c8a8c778-5351-4fab-d704-aabdeaeb7c8e"
      },
      "execution_count": 13,
      "outputs": [
        {
          "output_type": "stream",
          "name": "stdout",
          "text": [
            "enter a no.: 87\n",
            "odd number\n"
          ]
        }
      ]
    },
    {
      "cell_type": "markdown",
      "source": [
        "**Write a Python Program to Check Leap Year**"
      ],
      "metadata": {
        "id": "0_GLq0w0fo3t"
      }
    },
    {
      "cell_type": "code",
      "source": [
        "a= int(input(\"Entr a year: \"))\n",
        "if(a%4==0 and a%100!=0 or a%400==0):\n",
        "  print(\"This is a leap year\")\n",
        "else:\n",
        "  print(\"Not a leap year\")"
      ],
      "metadata": {
        "colab": {
          "base_uri": "https://localhost:8080/"
        },
        "id": "Mjf11TcZftFa",
        "outputId": "53a4eb04-6dcf-4c35-d9fd-d3788183f8c7"
      },
      "execution_count": 15,
      "outputs": [
        {
          "output_type": "stream",
          "name": "stdout",
          "text": [
            "Entr a year: 2012\n",
            "This is a leap year\n"
          ]
        }
      ]
    },
    {
      "cell_type": "markdown",
      "source": [
        "**Write a Python Program to Check Prime Number?**"
      ],
      "metadata": {
        "id": "G_kn-l2HheNp"
      }
    },
    {
      "cell_type": "code",
      "source": [
        "num = int(input(\"enter a number: \"))\n",
        "# If given number is greater than 1\n",
        "if num > 1:\n",
        "    # Iterate from 2 to n / 2\n",
        "    for i in range(2, int(num/2)+1):\n",
        "        # If num is divisible by any number between\n",
        "        # 2 and n / 2, it is not prime\n",
        "        if (num % i) == 0:\n",
        "            print(num, \"is not a prime number\")\n",
        "            break\n",
        "    else:\n",
        "        print(num, \"is a prime number\")\n",
        "else:\n",
        "    print(num, \"is not a prime number\")\n"
      ],
      "metadata": {
        "colab": {
          "base_uri": "https://localhost:8080/"
        },
        "id": "17FN9NJUhhTA",
        "outputId": "2e4b96df-314c-4b17-fb71-12d40de27359"
      },
      "execution_count": 19,
      "outputs": [
        {
          "output_type": "stream",
          "name": "stdout",
          "text": [
            "enter a number: 45\n",
            "45 is not a prime number\n"
          ]
        }
      ]
    },
    {
      "cell_type": "markdown",
      "source": [
        "**Write a Python Program to Print all Prime Numbers in an Interval of 1-10000**"
      ],
      "metadata": {
        "id": "Tt-7gssMj4k0"
      }
    },
    {
      "cell_type": "code",
      "source": [
        "lower = int(input(\"Enter lower range: \"))\n",
        "upper = int(input(\"Enter upper range: \"))\n",
        "\n",
        "for num in range(lower,upper + 1):\n",
        "   # prime numbers are greater than 1\n",
        "   if num > 1:\n",
        "       for i in range(2,num):\n",
        "           if (num % i) == 0:\n",
        "               break\n",
        "       else:\n",
        "           print(num)"
      ],
      "metadata": {
        "colab": {
          "base_uri": "https://localhost:8080/"
        },
        "id": "DEKvR7NZkAVc",
        "outputId": "535b3c92-8e13-4979-a801-0b5baf7a2b24"
      },
      "execution_count": 9,
      "outputs": [
        {
          "output_type": "stream",
          "name": "stdout",
          "text": [
            "Enter lower range: 567\n",
            "Enter upper range: 1200\n",
            "569\n",
            "571\n",
            "577\n",
            "587\n",
            "593\n",
            "599\n",
            "601\n",
            "607\n",
            "613\n",
            "617\n",
            "619\n",
            "631\n",
            "641\n",
            "643\n",
            "647\n",
            "653\n",
            "659\n",
            "661\n",
            "673\n",
            "677\n",
            "683\n",
            "691\n",
            "701\n",
            "709\n",
            "719\n",
            "727\n",
            "733\n",
            "739\n",
            "743\n",
            "751\n",
            "757\n",
            "761\n",
            "769\n",
            "773\n",
            "787\n",
            "797\n",
            "809\n",
            "811\n",
            "821\n",
            "823\n",
            "827\n",
            "829\n",
            "839\n",
            "853\n",
            "857\n",
            "859\n",
            "863\n",
            "877\n",
            "881\n",
            "883\n",
            "887\n",
            "907\n",
            "911\n",
            "919\n",
            "929\n",
            "937\n",
            "941\n",
            "947\n",
            "953\n",
            "967\n",
            "971\n",
            "977\n",
            "983\n",
            "991\n",
            "997\n",
            "1009\n",
            "1013\n",
            "1019\n",
            "1021\n",
            "1031\n",
            "1033\n",
            "1039\n",
            "1049\n",
            "1051\n",
            "1061\n",
            "1063\n",
            "1069\n",
            "1087\n",
            "1091\n",
            "1093\n",
            "1097\n",
            "1103\n",
            "1109\n",
            "1117\n",
            "1123\n",
            "1129\n",
            "1151\n",
            "1153\n",
            "1163\n",
            "1171\n",
            "1181\n",
            "1187\n",
            "1193\n"
          ]
        }
      ]
    },
    {
      "cell_type": "markdown",
      "source": [],
      "metadata": {
        "id": "yGs8_LvJhTBI"
      }
    }
  ]
}